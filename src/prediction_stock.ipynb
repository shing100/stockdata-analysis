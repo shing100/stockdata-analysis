{
 "cells": [
  {
   "cell_type": "code",
   "execution_count": 1,
   "metadata": {
    "collapsed": true
   },
   "outputs": [],
   "source": [
    "import numpy as np\n",
    "import pandas as pd\n",
    "import matplotlib.pyplot as plt"
   ]
  },
  {
   "cell_type": "code",
   "execution_count": 2,
   "metadata": {
    "collapsed": true
   },
   "outputs": [],
   "source": [
    "%matplotlib inline"
   ]
  },
  {
   "cell_type": "code",
   "execution_count": 9,
   "metadata": {
    "collapsed": true
   },
   "outputs": [],
   "source": [
    "data = pd.read_excel('stock.xlsx')"
   ]
  },
  {
   "cell_type": "code",
   "execution_count": 43,
   "metadata": {
    "scrolled": false
   },
   "outputs": [
    {
     "data": {
      "text/html": [
       "<div>\n",
       "<style>\n",
       "    .dataframe thead tr:only-child th {\n",
       "        text-align: right;\n",
       "    }\n",
       "\n",
       "    .dataframe thead th {\n",
       "        text-align: left;\n",
       "    }\n",
       "\n",
       "    .dataframe tbody tr th {\n",
       "        vertical-align: top;\n",
       "    }\n",
       "</style>\n",
       "<table border=\"1\" class=\"dataframe\">\n",
       "  <thead>\n",
       "    <tr style=\"text-align: right;\">\n",
       "      <th></th>\n",
       "      <th>종목명</th>\n",
       "      <th>날짜</th>\n",
       "      <th>시가</th>\n",
       "      <th>고가</th>\n",
       "      <th>저가</th>\n",
       "      <th>종가</th>\n",
       "      <th>거래량</th>\n",
       "      <th>거래금액</th>\n",
       "      <th>총주식수</th>\n",
       "    </tr>\n",
       "  </thead>\n",
       "  <tbody>\n",
       "    <tr>\n",
       "      <th>2065</th>\n",
       "      <td>코웨이보통주</td>\n",
       "      <td>20180517</td>\n",
       "      <td>90600.0</td>\n",
       "      <td>91600.0</td>\n",
       "      <td>90000.0</td>\n",
       "      <td>90700.0</td>\n",
       "      <td>77471</td>\n",
       "      <td>7037758</td>\n",
       "      <td>73799619</td>\n",
       "    </tr>\n",
       "    <tr>\n",
       "      <th>2066</th>\n",
       "      <td>코웨이보통주</td>\n",
       "      <td>20180518</td>\n",
       "      <td>90400.0</td>\n",
       "      <td>91600.0</td>\n",
       "      <td>89400.0</td>\n",
       "      <td>90600.0</td>\n",
       "      <td>83819</td>\n",
       "      <td>7585760</td>\n",
       "      <td>73799619</td>\n",
       "    </tr>\n",
       "    <tr>\n",
       "      <th>2067</th>\n",
       "      <td>코웨이보통주</td>\n",
       "      <td>20180521</td>\n",
       "      <td>90900.0</td>\n",
       "      <td>91500.0</td>\n",
       "      <td>88300.0</td>\n",
       "      <td>88300.0</td>\n",
       "      <td>99288</td>\n",
       "      <td>8829174</td>\n",
       "      <td>73799619</td>\n",
       "    </tr>\n",
       "    <tr>\n",
       "      <th>2068</th>\n",
       "      <td>코웨이보통주</td>\n",
       "      <td>20180523</td>\n",
       "      <td>89100.0</td>\n",
       "      <td>89800.0</td>\n",
       "      <td>86800.0</td>\n",
       "      <td>87400.0</td>\n",
       "      <td>201824</td>\n",
       "      <td>17764680</td>\n",
       "      <td>73799619</td>\n",
       "    </tr>\n",
       "    <tr>\n",
       "      <th>2069</th>\n",
       "      <td>코웨이보통주</td>\n",
       "      <td>20180524</td>\n",
       "      <td>87500.0</td>\n",
       "      <td>88100.0</td>\n",
       "      <td>86600.0</td>\n",
       "      <td>86600.0</td>\n",
       "      <td>140930</td>\n",
       "      <td>12301611</td>\n",
       "      <td>73799619</td>\n",
       "    </tr>\n",
       "    <tr>\n",
       "      <th>2070</th>\n",
       "      <td>코웨이보통주</td>\n",
       "      <td>20180525</td>\n",
       "      <td>87600.0</td>\n",
       "      <td>88300.0</td>\n",
       "      <td>86900.0</td>\n",
       "      <td>87000.0</td>\n",
       "      <td>149085</td>\n",
       "      <td>13021303</td>\n",
       "      <td>73799619</td>\n",
       "    </tr>\n",
       "    <tr>\n",
       "      <th>2071</th>\n",
       "      <td>코웨이보통주</td>\n",
       "      <td>20180528</td>\n",
       "      <td>88000.0</td>\n",
       "      <td>88000.0</td>\n",
       "      <td>85900.0</td>\n",
       "      <td>86200.0</td>\n",
       "      <td>159962</td>\n",
       "      <td>13827035</td>\n",
       "      <td>73799619</td>\n",
       "    </tr>\n",
       "    <tr>\n",
       "      <th>2072</th>\n",
       "      <td>코웨이보통주</td>\n",
       "      <td>20180529</td>\n",
       "      <td>86400.0</td>\n",
       "      <td>87800.0</td>\n",
       "      <td>86300.0</td>\n",
       "      <td>86800.0</td>\n",
       "      <td>77537</td>\n",
       "      <td>6762550</td>\n",
       "      <td>73799619</td>\n",
       "    </tr>\n",
       "    <tr>\n",
       "      <th>2073</th>\n",
       "      <td>코웨이보통주</td>\n",
       "      <td>20180530</td>\n",
       "      <td>86000.0</td>\n",
       "      <td>87300.0</td>\n",
       "      <td>84600.0</td>\n",
       "      <td>85000.0</td>\n",
       "      <td>180479</td>\n",
       "      <td>15442856</td>\n",
       "      <td>73799619</td>\n",
       "    </tr>\n",
       "    <tr>\n",
       "      <th>2074</th>\n",
       "      <td>코웨이보통주</td>\n",
       "      <td>20180531</td>\n",
       "      <td>85100.0</td>\n",
       "      <td>87300.0</td>\n",
       "      <td>85000.0</td>\n",
       "      <td>87300.0</td>\n",
       "      <td>625155</td>\n",
       "      <td>54400629</td>\n",
       "      <td>73799619</td>\n",
       "    </tr>\n",
       "  </tbody>\n",
       "</table>\n",
       "</div>"
      ],
      "text/plain": [
       "         종목명        날짜       시가       고가       저가       종가     거래량      거래금액  \\\n",
       "2065  코웨이보통주  20180517  90600.0  91600.0  90000.0  90700.0   77471   7037758   \n",
       "2066  코웨이보통주  20180518  90400.0  91600.0  89400.0  90600.0   83819   7585760   \n",
       "2067  코웨이보통주  20180521  90900.0  91500.0  88300.0  88300.0   99288   8829174   \n",
       "2068  코웨이보통주  20180523  89100.0  89800.0  86800.0  87400.0  201824  17764680   \n",
       "2069  코웨이보통주  20180524  87500.0  88100.0  86600.0  86600.0  140930  12301611   \n",
       "2070  코웨이보통주  20180525  87600.0  88300.0  86900.0  87000.0  149085  13021303   \n",
       "2071  코웨이보통주  20180528  88000.0  88000.0  85900.0  86200.0  159962  13827035   \n",
       "2072  코웨이보통주  20180529  86400.0  87800.0  86300.0  86800.0   77537   6762550   \n",
       "2073  코웨이보통주  20180530  86000.0  87300.0  84600.0  85000.0  180479  15442856   \n",
       "2074  코웨이보통주  20180531  85100.0  87300.0  85000.0  87300.0  625155  54400629   \n",
       "\n",
       "          총주식수  \n",
       "2065  73799619  \n",
       "2066  73799619  \n",
       "2067  73799619  \n",
       "2068  73799619  \n",
       "2069  73799619  \n",
       "2070  73799619  \n",
       "2071  73799619  \n",
       "2072  73799619  \n",
       "2073  73799619  \n",
       "2074  73799619  "
      ]
     },
     "execution_count": 43,
     "metadata": {},
     "output_type": "execute_result"
    }
   ],
   "source": [
    "data2.tail(10)"
   ]
  },
  {
   "cell_type": "code",
   "execution_count": 41,
   "metadata": {},
   "outputs": [
    {
     "name": "stdout",
     "output_type": "stream",
     "text": [
      "[39150. 39000. 38600. ... 87800. 87300. 87300.]\n"
     ]
    }
   ],
   "source": [
    "data_dim = 7\n",
    "data2 = data[:2075]\n",
    "xy = np.dstack([data2['시가'],data2['고가'],data2['저가'],data2['거래량'],data2['거래금액'],data2['총주식수'],data2['종가']])\n",
    "xy = xy.reshape(-1,data_dim)\n",
    "print(xy[:,1])"
   ]
  },
  {
   "cell_type": "code",
   "execution_count": 32,
   "metadata": {},
   "outputs": [],
   "source": [
    "def MinMaxScaler(data):\n",
    "    numerator = data - np.min(data, 0)\n",
    "    denominator = np.max(data, 0) - np.min(data, 0)\n",
    "    # noise term prevents the zero division\n",
    "    return numerator / (denominator + 1e-7)"
   ]
  },
  {
   "cell_type": "code",
   "execution_count": 39,
   "metadata": {},
   "outputs": [
    {
     "data": {
      "text/plain": [
       "array([[0.11243308, 0.10151057, 0.1163659 , ..., 0.01796716, 1.        ,\n",
       "        0.10440555],\n",
       "       [0.11481261, 0.09969789, 0.1163659 , ..., 0.01751544, 1.        ,\n",
       "        0.10319855],\n",
       "       [0.11302796, 0.09486405, 0.10889857, ..., 0.02749265, 1.        ,\n",
       "        0.09233555],\n",
       "       ...,\n",
       "       [0.68352171, 0.68942598, 0.717486  , ..., 0.01204044, 0.        ,\n",
       "        0.68376584],\n",
       "       [0.67876264, 0.68338369, 0.69632856, ..., 0.03094283, 0.        ,\n",
       "        0.66203983],\n",
       "       [0.66805473, 0.68338369, 0.70130678, ..., 0.11577798, 0.        ,\n",
       "        0.68980084]])"
      ]
     },
     "execution_count": 39,
     "metadata": {},
     "output_type": "execute_result"
    }
   ],
   "source": [
    "xy = MinMaxScaler(xy)\n",
    "xy"
   ]
  },
  {
   "cell_type": "code",
   "execution_count": 7,
   "metadata": {
    "scrolled": true
   },
   "outputs": [
    {
     "data": {
      "image/png": "[encoded data removed]",
      "text/plain": [
       "<matplotlib.figure.Figure at 0x15d4b6048d0>"
      ]
     },
     "metadata": {},
     "output_type": "display_data"
    }
   ],
   "source": [
    "plt.figure(figsize=(8,4))\n",
    "plt.subplot(221)\n",
    "plt.plot(data2.날짜,data2.종가,label='종가')\n",
    "# plt.xlim(20100104,20101231)\n",
    "# plt.x\n",
    "plt.grid()\n",
    "plt.subplot(222)\n",
    "plt.plot(data2.날짜,data2.총주식수,label='총주식수')\n",
    "# plt.xlim(20100104,20101231)\n",
    "# 바둑판 무늬\n",
    "# plt.grid()\n",
    "plt.subplot(223)\n",
    "plt.plot(data3.날짜,data3.거래량,label='거래량')\n",
    "plt.xlim(20100104,20101231)\n",
    "plt.subplot(224)\n",
    "plt.plot(data3.날짜,data3.거래금액,label='거래금액')\n",
    "plt.xlim(20100104,20101231)\n",
    "plt.show()"
   ]
  },
  {
   "cell_type": "code",
   "execution_count": 23,
   "metadata": {},
   "outputs": [
    {
     "data": {
      "text/plain": [
       "0    38800.0\n",
       "1    38700.0\n",
       "2    37800.0\n",
       "3    37650.0\n",
       "4    37600.0\n",
       "Name: 종가, dtype: float64"
      ]
     },
     "execution_count": 23,
     "metadata": {},
     "output_type": "execute_result"
    }
   ],
   "source": [
    "test22 = data[\"종가\"]\n",
    "np.array(test22)\n",
    "test22[0:5]"
   ]
  },
  {
   "cell_type": "code",
   "execution_count": 22,
   "metadata": {
    "collapsed": true
   },
   "outputs": [],
   "source": [
    "days_mean5 = [np.mean(test22[i-4:i+1]) for i,v in enumerate(test22) if i > 3]"
   ]
  },
  {
   "cell_type": "code",
   "execution_count": 8,
   "metadata": {},
   "outputs": [
    {
     "ename": "UnicodeDecodeError",
     "evalue": "'utf-8' codec can't decode bytes in position 15-16: invalid continuation byte",
     "output_type": "error",
     "traceback": [
      "\u001b[1;31m---------------------------------------------------------------------------\u001b[0m",
      "\u001b[1;31mUnicodeDecodeError\u001b[0m                        Traceback (most recent call last)",
      "\u001b[1;32m<ipython-input-8-dce04395b781>\u001b[0m in \u001b[0;36m<module>\u001b[1;34m()\u001b[0m\n\u001b[1;32m----> 1\u001b[1;33m \u001b[0mxy\u001b[0m \u001b[1;33m=\u001b[0m \u001b[0mnp\u001b[0m\u001b[1;33m.\u001b[0m\u001b[0mloadtxt\u001b[0m\u001b[1;33m(\u001b[0m\u001b[1;34m'stock.xlsx'\u001b[0m\u001b[1;33m,\u001b[0m \u001b[0mdelimiter\u001b[0m\u001b[1;33m=\u001b[0m\u001b[1;34m','\u001b[0m\u001b[1;33m,\u001b[0m\u001b[0mencoding\u001b[0m\u001b[1;33m=\u001b[0m\u001b[1;34m'utf8'\u001b[0m\u001b[1;33m)\u001b[0m\u001b[1;33m\u001b[0m\u001b[0m\n\u001b[0m",
      "\u001b[1;32mE:\\ananconda\\lib\\site-packages\\numpy\\lib\\npyio.py\u001b[0m in \u001b[0;36mloadtxt\u001b[1;34m(fname, dtype, comments, delimiter, converters, skiprows, usecols, unpack, ndmin, encoding)\u001b[0m\n\u001b[0;32m   1042\u001b[0m         \u001b[1;32mtry\u001b[0m\u001b[1;33m:\u001b[0m\u001b[1;33m\u001b[0m\u001b[0m\n\u001b[0;32m   1043\u001b[0m             \u001b[1;32mwhile\u001b[0m \u001b[1;32mnot\u001b[0m \u001b[0mfirst_vals\u001b[0m\u001b[1;33m:\u001b[0m\u001b[1;33m\u001b[0m\u001b[0m\n\u001b[1;32m-> 1044\u001b[1;33m                 \u001b[0mfirst_line\u001b[0m \u001b[1;33m=\u001b[0m \u001b[0mnext\u001b[0m\u001b[1;33m(\u001b[0m\u001b[0mfh\u001b[0m\u001b[1;33m)\u001b[0m\u001b[1;33m\u001b[0m\u001b[0m\n\u001b[0m\u001b[0;32m   1045\u001b[0m                 \u001b[0mfirst_vals\u001b[0m \u001b[1;33m=\u001b[0m \u001b[0msplit_line\u001b[0m\u001b[1;33m(\u001b[0m\u001b[0mfirst_line\u001b[0m\u001b[1;33m)\u001b[0m\u001b[1;33m\u001b[0m\u001b[0m\n\u001b[0;32m   1046\u001b[0m         \u001b[1;32mexcept\u001b[0m \u001b[0mStopIteration\u001b[0m\u001b[1;33m:\u001b[0m\u001b[1;33m\u001b[0m\u001b[0m\n",
      "\u001b[1;32mE:\\ananconda\\lib\\codecs.py\u001b[0m in \u001b[0;36mdecode\u001b[1;34m(self, input, final)\u001b[0m\n\u001b[0;32m    319\u001b[0m         \u001b[1;31m# decode input (taking the buffer into account)\u001b[0m\u001b[1;33m\u001b[0m\u001b[1;33m\u001b[0m\u001b[0m\n\u001b[0;32m    320\u001b[0m         \u001b[0mdata\u001b[0m \u001b[1;33m=\u001b[0m \u001b[0mself\u001b[0m\u001b[1;33m.\u001b[0m\u001b[0mbuffer\u001b[0m \u001b[1;33m+\u001b[0m \u001b[0minput\u001b[0m\u001b[1;33m\u001b[0m\u001b[0m\n\u001b[1;32m--> 321\u001b[1;33m         \u001b[1;33m(\u001b[0m\u001b[0mresult\u001b[0m\u001b[1;33m,\u001b[0m \u001b[0mconsumed\u001b[0m\u001b[1;33m)\u001b[0m \u001b[1;33m=\u001b[0m \u001b[0mself\u001b[0m\u001b[1;33m.\u001b[0m\u001b[0m_buffer_decode\u001b[0m\u001b[1;33m(\u001b[0m\u001b[0mdata\u001b[0m\u001b[1;33m,\u001b[0m \u001b[0mself\u001b[0m\u001b[1;33m.\u001b[0m\u001b[0merrors\u001b[0m\u001b[1;33m,\u001b[0m \u001b[0mfinal\u001b[0m\u001b[1;33m)\u001b[0m\u001b[1;33m\u001b[0m\u001b[0m\n\u001b[0m\u001b[0;32m    322\u001b[0m         \u001b[1;31m# keep undecoded input until the next call\u001b[0m\u001b[1;33m\u001b[0m\u001b[1;33m\u001b[0m\u001b[0m\n\u001b[0;32m    323\u001b[0m         \u001b[0mself\u001b[0m\u001b[1;33m.\u001b[0m\u001b[0mbuffer\u001b[0m \u001b[1;33m=\u001b[0m \u001b[0mdata\u001b[0m\u001b[1;33m[\u001b[0m\u001b[0mconsumed\u001b[0m\u001b[1;33m:\u001b[0m\u001b[1;33m]\u001b[0m\u001b[1;33m\u001b[0m\u001b[0m\n",
      "\u001b[1;31mUnicodeDecodeError\u001b[0m: 'utf-8' codec can't decode bytes in position 15-16: invalid continuation byte"
     ]
    }
   ],
   "source": [
    "xy = np.loadtxt('stock.xlsx', delimiter=',',encoding='utf8')"
   ]
  },
  {
   "cell_type": "code",
   "execution_count": null,
   "metadata": {
    "collapsed": true
   },
   "outputs": [],
   "source": []
  }
 ],
 "metadata": {
  "kernelspec": {
   "display_name": "Python 3",
   "language": "python",
   "name": "python3"
  },
  "language_info": {
   "codemirror_mode": {
    "name": "ipython",
    "version": 3
   },
   "file_extension": ".py",
   "mimetype": "text/x-python",
   "name": "python",
   "nbconvert_exporter": "python",
   "pygments_lexer": "ipython3",
   "version": "3.6.3"
  }
 },
 "nbformat": 4,
 "nbformat_minor": 2
}
